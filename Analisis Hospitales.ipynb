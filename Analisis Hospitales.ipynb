{
 "cells": [
  {
   "cell_type": "code",
   "execution_count": 76,
   "metadata": {},
   "outputs": [],
   "source": [
    "#Este analisis verifica si la cercanía a hospitales y centros de salud privados afecta el precio.\n",
    "\n",
    "import pandas as pd\n",
    "import numpy as np\n",
    "#import shapely\n",
    "import matplotlib.pyplot as plt\n",
    "%matplotlib inline\n",
    "%config IPCompleter.greedy=True"
   ]
  },
  {
   "cell_type": "code",
   "execution_count": 77,
   "metadata": {},
   "outputs": [],
   "source": [
    "#Datos de establecimientos de salud\n",
    "\n",
    "#Hospitales. Datos extraídos de: https://data.buenosaires.gob.ar/dataset/areas-hospitalarias\n",
    "publicos = pd.read_csv('hospitalesPublicos.csv', sep = \";\",low_memory = False) \n",
    "\n",
    "#Centros de salud privados. Datos extraídos de: https://data.buenosaires.gob.ar/dataset/centros-de-salud-privados\n",
    "privados = pd.read_csv('hospitalesPrivados.csv', sep = \";\",low_memory = False) "
   ]
  },
  {
   "cell_type": "code",
   "execution_count": 78,
   "metadata": {},
   "outputs": [
    {
     "name": "stderr",
     "output_type": "stream",
     "text": [
      "/home/santiago/anaconda3/lib/python3.7/site-packages/ipykernel_launcher.py:11: SettingWithCopyWarning: \n",
      "A value is trying to be set on a copy of a slice from a DataFrame\n",
      "\n",
      "See the caveats in the documentation: http://pandas.pydata.org/pandas-docs/stable/indexing.html#indexing-view-versus-copy\n",
      "  # This is added back by InteractiveShellApp.init_path()\n"
     ]
    }
   ],
   "source": [
    "#Cargamos los datos que ya tenemos procesados\n",
    "\n",
    "#Datos procesados\n",
    "data = pd.read_csv('dataFiltrada/datosCapital.csv',low_memory = False)\n",
    "\n",
    "\n",
    "#Tomo los datos que me interesan: estado, barrio, superficie, precio por m2, latitud y longitud)\n",
    "filteredData = data[['barrio','price','lat', 'lon']]\n",
    "\n",
    "#Elimino NAs\n",
    "filteredData.dropna(inplace=True)"
   ]
  },
  {
   "cell_type": "code",
   "execution_count": 79,
   "metadata": {},
   "outputs": [
    {
     "name": "stderr",
     "output_type": "stream",
     "text": [
      "/home/santiago/anaconda3/lib/python3.7/site-packages/ipykernel_launcher.py:4: SettingWithCopyWarning: \n",
      "A value is trying to be set on a copy of a slice from a DataFrame.\n",
      "Try using .loc[row_indexer,col_indexer] = value instead\n",
      "\n",
      "See the caveats in the documentation: http://pandas.pydata.org/pandas-docs/stable/indexing.html#indexing-view-versus-copy\n",
      "  after removing the cwd from sys.path.\n",
      "/home/santiago/anaconda3/lib/python3.7/site-packages/ipykernel_launcher.py:5: SettingWithCopyWarning: \n",
      "A value is trying to be set on a copy of a slice from a DataFrame.\n",
      "Try using .loc[row_indexer,col_indexer] = value instead\n",
      "\n",
      "See the caveats in the documentation: http://pandas.pydata.org/pandas-docs/stable/indexing.html#indexing-view-versus-copy\n",
      "  \"\"\"\n"
     ]
    },
    {
     "data": {
      "text/html": [
       "<div>\n",
       "<style scoped>\n",
       "    .dataframe tbody tr th:only-of-type {\n",
       "        vertical-align: middle;\n",
       "    }\n",
       "\n",
       "    .dataframe tbody tr th {\n",
       "        vertical-align: top;\n",
       "    }\n",
       "\n",
       "    .dataframe thead th {\n",
       "        text-align: right;\n",
       "    }\n",
       "</style>\n",
       "<table border=\"1\" class=\"dataframe\">\n",
       "  <thead>\n",
       "    <tr style=\"text-align: right;\">\n",
       "      <th></th>\n",
       "      <th>NOMBRE</th>\n",
       "      <th>lat</th>\n",
       "      <th>lon</th>\n",
       "    </tr>\n",
       "  </thead>\n",
       "  <tbody>\n",
       "    <tr>\n",
       "      <th>57</th>\n",
       "      <td>CLINICA GERIATRICA GUAYAQUIL</td>\n",
       "      <td>-34.619504</td>\n",
       "      <td>-58.430525</td>\n",
       "    </tr>\n",
       "    <tr>\n",
       "      <th>1</th>\n",
       "      <td>CAMI - MEDICINA DEL TRABAJO</td>\n",
       "      <td>-34.612884</td>\n",
       "      <td>-58.420476</td>\n",
       "    </tr>\n",
       "    <tr>\n",
       "      <th>48</th>\n",
       "      <td>DIAGNOSTICO MEDICO</td>\n",
       "      <td>-34.596846</td>\n",
       "      <td>-58.397237</td>\n",
       "    </tr>\n",
       "    <tr>\n",
       "      <th>55</th>\n",
       "      <td>INSTITUTO MEDICO DE OBSTETRICIA</td>\n",
       "      <td>-34.607061</td>\n",
       "      <td>-58.398908</td>\n",
       "    </tr>\n",
       "    <tr>\n",
       "      <th>25</th>\n",
       "      <td>HOSPITAL MILITAR CENTRAL</td>\n",
       "      <td>-34.570141</td>\n",
       "      <td>-58.436162</td>\n",
       "    </tr>\n",
       "  </tbody>\n",
       "</table>\n",
       "</div>"
      ],
      "text/plain": [
       "                             NOMBRE        lat        lon\n",
       "57     CLINICA GERIATRICA GUAYAQUIL -34.619504 -58.430525\n",
       "1       CAMI - MEDICINA DEL TRABAJO -34.612884 -58.420476\n",
       "48               DIAGNOSTICO MEDICO -34.596846 -58.397237\n",
       "55  INSTITUTO MEDICO DE OBSTETRICIA -34.607061 -58.398908\n",
       "25         HOSPITAL MILITAR CENTRAL -34.570141 -58.436162"
      ]
     },
     "execution_count": 79,
     "metadata": {},
     "output_type": "execute_result"
    }
   ],
   "source": [
    "#Nos quedamos con los campos que consideramos utiles para vincular con las propiedades\n",
    "privado2 = privados[['NOMBRE','LAT','LNG']]\n",
    "#Cambio las comas en latitud y longitud por puntos para poder usarlos como float\n",
    "privado2['lat'] = privado2['LAT'].str.replace(',','.').astype(float)\n",
    "privado2['lon'] = privado2['LNG'].str.replace(',','.').astype(float)\n",
    "\n",
    "privados = privado2[['NOMBRE','lat','lon']]\n",
    "privado.sample(5)"
   ]
  },
  {
   "cell_type": "code",
   "execution_count": 80,
   "metadata": {},
   "outputs": [],
   "source": [
    "#Buscamos, para cada propiedad, el centro de salud más cercano\n",
    "precio_segun_distancia = filteredData.copy()\n",
    "\n",
    "#Definimos una funcion que calcula la distancia entre dos puntos\n",
    "import math\n",
    "def dist(lat1,lon1,lat2,lon2):\n",
    "    dLat = math.radians(lat2-lat1)\n",
    "    dLon = math.radians(lon2-lon1)\n",
    "\n",
    "    lat1 = math.radians(lat1)\n",
    "    lat2 = math.radians(lat2)\n",
    "\n",
    "    a = math.sin(dLat/2) * math.sin(dLat/2) + math.sin(dLon/2) * math.sin(dLon/2) * math.cos(lat1) * math.cos(lat2)\n",
    "    c = 2 * math.atan2(math.sqrt(a), math.sqrt(1-a))\n",
    "    return c * 6371 * 1000"
   ]
  },
  {
   "cell_type": "code",
   "execution_count": 81,
   "metadata": {},
   "outputs": [],
   "source": [
    "#Encuentra el hospital o centro de salud privado más cercano a las coordenadas dadas\n",
    "def encontrar_mas_cercano(lat, lon, fuente):\n",
    "    distancias = fuente.apply(lambda row: dist(lat, lon, row['lat'], row['lon']), axis=1)\n",
    "    return fuente.loc[distancias.idxmin(), 'NOMBRE']\n",
    "\n",
    "#Calcula la distancia mínima a un hospital o centro de salud\n",
    "def dist2(lat,lon,fuente):\n",
    "    distancias = fuente.apply(lambda row: dist(lat, lon, row['lat'], row['lon']), axis=1)\n",
    "    return distancias.min()"
   ]
  },
  {
   "cell_type": "code",
   "execution_count": 82,
   "metadata": {},
   "outputs": [
    {
     "name": "stderr",
     "output_type": "stream",
     "text": [
      "/home/santiago/anaconda3/lib/python3.7/site-packages/ipykernel_launcher.py:3: SettingWithCopyWarning: \n",
      "A value is trying to be set on a copy of a slice from a DataFrame.\n",
      "Try using .loc[row_indexer,col_indexer] = value instead\n",
      "\n",
      "See the caveats in the documentation: http://pandas.pydata.org/pandas-docs/stable/indexing.html#indexing-view-versus-copy\n",
      "  This is separate from the ipykernel package so we can avoid doing imports until\n",
      "/home/santiago/anaconda3/lib/python3.7/site-packages/ipykernel_launcher.py:18: SettingWithCopyWarning: \n",
      "A value is trying to be set on a copy of a slice from a DataFrame.\n",
      "Try using .loc[row_indexer,col_indexer] = value instead\n",
      "\n",
      "See the caveats in the documentation: http://pandas.pydata.org/pandas-docs/stable/indexing.html#indexing-view-versus-copy\n"
     ]
    },
    {
     "data": {
      "text/html": [
       "<div>\n",
       "<style scoped>\n",
       "    .dataframe tbody tr th:only-of-type {\n",
       "        vertical-align: middle;\n",
       "    }\n",
       "\n",
       "    .dataframe tbody tr th {\n",
       "        vertical-align: top;\n",
       "    }\n",
       "\n",
       "    .dataframe thead th {\n",
       "        text-align: right;\n",
       "    }\n",
       "</style>\n",
       "<table border=\"1\" class=\"dataframe\">\n",
       "  <thead>\n",
       "    <tr style=\"text-align: right;\">\n",
       "      <th></th>\n",
       "      <th>NOMBRE</th>\n",
       "      <th>lat</th>\n",
       "      <th>lon</th>\n",
       "    </tr>\n",
       "  </thead>\n",
       "  <tbody>\n",
       "    <tr>\n",
       "      <th>0</th>\n",
       "      <td>HTAL. DR. J.M. RAMOS MEJIA</td>\n",
       "      <td>-34.617369</td>\n",
       "      <td>-58.410183</td>\n",
       "    </tr>\n",
       "    <tr>\n",
       "      <th>1</th>\n",
       "      <td>HTAL. DR. A. ZUBIZARRETA</td>\n",
       "      <td>-34.599915</td>\n",
       "      <td>-58.510748</td>\n",
       "    </tr>\n",
       "    <tr>\n",
       "      <th>2</th>\n",
       "      <td>HTAL. DR. C.G. DURAND</td>\n",
       "      <td>-34.609531</td>\n",
       "      <td>-58.438305</td>\n",
       "    </tr>\n",
       "    <tr>\n",
       "      <th>3</th>\n",
       "      <td>HTAL. DR. T. ALVAREZ</td>\n",
       "      <td>-34.623738</td>\n",
       "      <td>-58.469683</td>\n",
       "    </tr>\n",
       "    <tr>\n",
       "      <th>4</th>\n",
       "      <td>HTAL. VELEZ SARSFIELD</td>\n",
       "      <td>-34.625355</td>\n",
       "      <td>-58.507623</td>\n",
       "    </tr>\n",
       "    <tr>\n",
       "      <th>5</th>\n",
       "      <td>HTAL. DR. F. SANTOJANI</td>\n",
       "      <td>-34.648925</td>\n",
       "      <td>-58.515292</td>\n",
       "    </tr>\n",
       "    <tr>\n",
       "      <th>6</th>\n",
       "      <td>HTAL. DR, E. TORNU</td>\n",
       "      <td>-34.586471</td>\n",
       "      <td>-58.471636</td>\n",
       "    </tr>\n",
       "    <tr>\n",
       "      <th>7</th>\n",
       "      <td>HTAL. J.A.FERNANDEZ</td>\n",
       "      <td>-34.581443</td>\n",
       "      <td>-58.406978</td>\n",
       "    </tr>\n",
       "    <tr>\n",
       "      <th>8</th>\n",
       "      <td>HTAL. DR. PIROVANO</td>\n",
       "      <td>-34.564832</td>\n",
       "      <td>-58.470934</td>\n",
       "    </tr>\n",
       "    <tr>\n",
       "      <th>9</th>\n",
       "      <td>HTAL. DR. P. PIÑERO</td>\n",
       "      <td>-34.644780</td>\n",
       "      <td>-58.454385</td>\n",
       "    </tr>\n",
       "    <tr>\n",
       "      <th>10</th>\n",
       "      <td>HTAL. J.M. PENNA</td>\n",
       "      <td>-34.643191</td>\n",
       "      <td>-58.410067</td>\n",
       "    </tr>\n",
       "    <tr>\n",
       "      <th>11</th>\n",
       "      <td>HTAL. DR. C. ARGERICH</td>\n",
       "      <td>-34.628252</td>\n",
       "      <td>-58.365549</td>\n",
       "    </tr>\n",
       "  </tbody>\n",
       "</table>\n",
       "</div>"
      ],
      "text/plain": [
       "                        NOMBRE        lat        lon\n",
       "0   HTAL. DR. J.M. RAMOS MEJIA -34.617369 -58.410183\n",
       "1     HTAL. DR. A. ZUBIZARRETA -34.599915 -58.510748\n",
       "2        HTAL. DR. C.G. DURAND -34.609531 -58.438305\n",
       "3         HTAL. DR. T. ALVAREZ -34.623738 -58.469683\n",
       "4        HTAL. VELEZ SARSFIELD -34.625355 -58.507623\n",
       "5       HTAL. DR. F. SANTOJANI -34.648925 -58.515292\n",
       "6           HTAL. DR, E. TORNU -34.586471 -58.471636\n",
       "7          HTAL. J.A.FERNANDEZ -34.581443 -58.406978\n",
       "8           HTAL. DR. PIROVANO -34.564832 -58.470934\n",
       "9          HTAL. DR. P. PIÑERO -34.644780 -58.454385\n",
       "10            HTAL. J.M. PENNA -34.643191 -58.410067\n",
       "11       HTAL. DR. C. ARGERICH -34.628252 -58.365549"
      ]
     },
     "execution_count": 82,
     "metadata": {},
     "output_type": "execute_result"
    }
   ],
   "source": [
    "#Direcciones extraídas de Google Maps para los hospitales\n",
    "aux = hospital[['NOMBRE', 'WKT']]\n",
    "aux['lat'] = 0.\n",
    "\n",
    "aux.at[0, 'lat'] = -34.617369\n",
    "aux.at[1, 'lat'] = -34.599915\n",
    "aux.at[2, 'lat'] = -34.609531\n",
    "aux.at[3, 'lat'] = -34.623738\n",
    "aux.at[4, 'lat'] = -34.625355\n",
    "aux.at[5, 'lat'] = -34.648925\n",
    "aux.at[6, 'lat'] = -34.586471\n",
    "aux.at[7, 'lat'] = -34.581443\n",
    "aux.at[8, 'lat'] = -34.564832\n",
    "aux.at[9, 'lat'] = -34.644780\n",
    "aux.at[10, 'lat'] = -34.643191\n",
    "aux.at[11, 'lat'] = -34.628252\n",
    "\n",
    "aux['lon'] = 0.\n",
    "\n",
    "aux.at[0, 'lon'] = -58.410183\n",
    "aux.at[1, 'lon'] = -58.510748\n",
    "aux.at[2, 'lon'] = -58.438305\n",
    "aux.at[3, 'lon'] = -58.469683\n",
    "aux.at[4, 'lon'] = -58.507623\n",
    "aux.at[5, 'lon'] = -58.515292\n",
    "aux.at[6, 'lon'] = -58.471636\n",
    "aux.at[7, 'lon'] = -58.406978\n",
    "aux.at[8, 'lon'] = -58.470934\n",
    "aux.at[9, 'lon'] = -58.454385\n",
    "aux.at[10, 'lon'] = -58.410067\n",
    "aux.at[11, 'lon'] = -58.365549\n",
    "\n",
    "h_publicos = aux[['NOMBRE', 'lat', 'lon']]\n",
    "h_publicos.head(12)"
   ]
  },
  {
   "cell_type": "code",
   "execution_count": 83,
   "metadata": {},
   "outputs": [],
   "source": [
    "#Agrego columnas al dataframe con el hospital privado y centro privado más cercanos\n",
    "#y las distancias mínimas a los mismos\n",
    "precio_segun_distancia['privado_mas_cercano'] = precio_segun_distancia.apply(lambda row: encontrar_mas_cercano(row['lat'], row['lon'], privados), axis=1)\n",
    "precio_segun_distancia['distancia_minima_privado (m)'] = precio_segun_distancia.apply(lambda row: dist2(row['lat'],row['lon'],privados), axis=1)\n",
    "\n",
    "precio_segun_distancia['publico_mas_cercano'] = precio_segun_distancia.apply(lambda row: encontrar_mas_cercano(row['lat'], row['lon'], h_publicos), axis=1)\n",
    "precio_segun_distancia['distancia_minima_publico (m)'] = precio_segun_distancia.apply(lambda row: dist2(row['lat'],row['lon'], h_publicos), axis=1)"
   ]
  },
  {
   "cell_type": "code",
   "execution_count": 84,
   "metadata": {},
   "outputs": [
    {
     "data": {
      "text/plain": [
       "70482"
      ]
     },
     "execution_count": 84,
     "metadata": {},
     "output_type": "execute_result"
    }
   ],
   "source": [
    "len(precio_segun_distancia)"
   ]
  },
  {
   "cell_type": "code",
   "execution_count": 86,
   "metadata": {},
   "outputs": [
    {
     "data": {
      "text/plain": [
       "<matplotlib.axes._subplots.AxesSubplot at 0x7fa3db1a3358>"
      ]
     },
     "execution_count": 86,
     "metadata": {},
     "output_type": "execute_result"
    },
    {
     "data": {
      "image/png": "[encoded data removed]",
      "text/plain": [
       "<Figure size 864x576 with 1 Axes>"
      ]
     },
     "metadata": {
      "needs_background": "light"
     },
     "output_type": "display_data"
    }
   ],
   "source": [
    "#Graficamos la relacion entre precio y distancia a centros de salud privada\n",
    "\n",
    "precio_segun_distancia.plot.scatter('distancia_minima_privado (m)', 'price',alpha=0.25, figsize=(12,8),color=(0,0,0))\n"
   ]
  },
  {
   "cell_type": "code",
   "execution_count": null,
   "metadata": {},
   "outputs": [],
   "source": []
  },
  {
   "cell_type": "code",
   "execution_count": null,
   "metadata": {},
   "outputs": [],
   "source": []
  },
  {
   "cell_type": "code",
   "execution_count": null,
   "metadata": {},
   "outputs": [],
   "source": []
  },
  {
   "cell_type": "code",
   "execution_count": null,
   "metadata": {},
   "outputs": [],
   "source": []
  },
  {
   "cell_type": "code",
   "execution_count": null,
   "metadata": {},
   "outputs": [],
   "source": []
  },
  {
   "cell_type": "code",
   "execution_count": null,
   "metadata": {},
   "outputs": [],
   "source": []
  },
  {
   "cell_type": "code",
   "execution_count": null,
   "metadata": {},
   "outputs": [],
   "source": []
  },
  {
   "cell_type": "code",
   "execution_count": null,
   "metadata": {},
   "outputs": [],
   "source": []
  }
 ],
 "metadata": {
  "kernelspec": {
   "display_name": "Python 3",
   "language": "python",
   "name": "python3"
  },
  "language_info": {
   "codemirror_mode": {
    "name": "ipython",
    "version": 3
   },
   "file_extension": ".py",
   "mimetype": "text/x-python",
   "name": "python",
   "nbconvert_exporter": "python",
   "pygments_lexer": "ipython3",
   "version": "3.7.3"
  }
 },
 "nbformat": 4,
 "nbformat_minor": 2
}
