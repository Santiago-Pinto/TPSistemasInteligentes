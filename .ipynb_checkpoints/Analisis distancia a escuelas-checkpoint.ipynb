{
 "cells": [
  {
   "cell_type": "code",
   "execution_count": 1,
   "metadata": {},
   "outputs": [],
   "source": [
    "import pandas as pd\n",
    "import numpy as np\n",
    "%matplotlib inline\n",
    "#Primero veo que datos tengo respecto de estos centros\n",
    "#Los datos fueron sacados de https://drive.google.com/file/d/0Bx63od1LTzcVelZhd2Q1OW1JLUE/view\n",
    "centros_de_educacion =  pd.read_csv(\"dataFiltrada/establecimientos-educativos.csv\")\n",
    "\n",
    "data = centros_de_educacion[['lat','long','barrio','nivel']]"
   ]
  },
  {
   "cell_type": "code",
   "execution_count": 2,
   "metadata": {},
   "outputs": [],
   "source": [
    "#Nos quedamos con jardines, primarios, secundarios y universidades\n",
    "jardines = data[data['nivel'].str.contains(\"Inicial\")]\n",
    "primarios = data[data['nivel'].str.contains(\"Prima\")]\n",
    "secundarios = data[data['nivel'].str.contains(\"Secund\")]\n",
    "universidades = data[data['nivel'].str.contains(\"Univ\")]\n",
    "\n",
    "escuelas = pd.concat([jardines,primarios,secundarios,universidades])\n",
    "escuelas.drop_duplicates(inplace = True)"
   ]
  },
  {
   "cell_type": "code",
   "execution_count": 3,
   "metadata": {},
   "outputs": [
    {
     "data": {
      "text/html": [
       "<div>\n",
       "<style scoped>\n",
       "    .dataframe tbody tr th:only-of-type {\n",
       "        vertical-align: middle;\n",
       "    }\n",
       "\n",
       "    .dataframe tbody tr th {\n",
       "        vertical-align: top;\n",
       "    }\n",
       "\n",
       "    .dataframe thead th {\n",
       "        text-align: right;\n",
       "    }\n",
       "</style>\n",
       "<table border=\"1\" class=\"dataframe\">\n",
       "  <thead>\n",
       "    <tr style=\"text-align: right;\">\n",
       "      <th></th>\n",
       "      <th>lat</th>\n",
       "      <th>lon</th>\n",
       "      <th>barrio</th>\n",
       "      <th>nivel</th>\n",
       "    </tr>\n",
       "  </thead>\n",
       "  <tbody>\n",
       "    <tr>\n",
       "      <th>2</th>\n",
       "      <td>-34.565676</td>\n",
       "      <td>-58.470192</td>\n",
       "      <td>BELGRANO</td>\n",
       "      <td>Inicial Común</td>\n",
       "    </tr>\n",
       "    <tr>\n",
       "      <th>3</th>\n",
       "      <td>-34.584847</td>\n",
       "      <td>-58.400357</td>\n",
       "      <td>RECOLETA</td>\n",
       "      <td>Inicial Común</td>\n",
       "    </tr>\n",
       "    <tr>\n",
       "      <th>4</th>\n",
       "      <td>-34.603379</td>\n",
       "      <td>-58.426547</td>\n",
       "      <td>ALMAGRO</td>\n",
       "      <td>Inicial Común</td>\n",
       "    </tr>\n",
       "    <tr>\n",
       "      <th>5</th>\n",
       "      <td>-34.620816</td>\n",
       "      <td>-58.467954</td>\n",
       "      <td>FLORES</td>\n",
       "      <td>Inicial Común</td>\n",
       "    </tr>\n",
       "    <tr>\n",
       "      <th>6</th>\n",
       "      <td>-34.616163</td>\n",
       "      <td>-58.479206</td>\n",
       "      <td>VILLA SANTA RITA</td>\n",
       "      <td>Inicial Común</td>\n",
       "    </tr>\n",
       "  </tbody>\n",
       "</table>\n",
       "</div>"
      ],
      "text/plain": [
       "         lat        lon            barrio          nivel\n",
       "2 -34.565676 -58.470192          BELGRANO  Inicial Común\n",
       "3 -34.584847 -58.400357          RECOLETA  Inicial Común\n",
       "4 -34.603379 -58.426547           ALMAGRO  Inicial Común\n",
       "5 -34.620816 -58.467954            FLORES  Inicial Común\n",
       "6 -34.616163 -58.479206  VILLA SANTA RITA  Inicial Común"
      ]
     },
     "execution_count": 3,
     "metadata": {},
     "output_type": "execute_result"
    }
   ],
   "source": [
    "#Renombro un campo\n",
    "escuelas['lon'] = escuelas['long']\n",
    "escuelas = escuelas[['lat','lon','barrio','nivel']]\n",
    "escuelas.head()"
   ]
  },
  {
   "cell_type": "code",
   "execution_count": 4,
   "metadata": {},
   "outputs": [
    {
     "name": "stderr",
     "output_type": "stream",
     "text": [
      "/home/matias/anaconda3/lib/python3.7/site-packages/ipykernel_launcher.py:10: SettingWithCopyWarning: \n",
      "A value is trying to be set on a copy of a slice from a DataFrame\n",
      "\n",
      "See the caveats in the documentation: http://pandas.pydata.org/pandas-docs/stable/indexing.html#indexing-view-versus-copy\n",
      "  # Remove the CWD from sys.path while we load stuff.\n"
     ]
    }
   ],
   "source": [
    "\n",
    "#Datos procesados\n",
    "filteredData = pd.read_csv('dataFiltrada/dataV3.csv',low_memory = False)\n",
    "\n",
    "\n",
    "#Tomo los datos que me interesan: estado, barrio, superficie, precio por m2, latitud y longitud)\n",
    "propiedades = filteredData[['start_date','end_date','lat','lon','barrio','rooms','bedrooms','bathrooms','surface_total','surface_covered','price','title','description','property_type','operation_type','dist_centro','min_dist_subte']]\n",
    "\n",
    "\n",
    "#Elimino NAs\n",
    "propiedades.dropna(inplace=True)"
   ]
  },
  {
   "cell_type": "code",
   "execution_count": 5,
   "metadata": {},
   "outputs": [],
   "source": [
    "#Defino una funcion que calcula la distancia entre dos puntos\n",
    "import math\n",
    "def dist(lat1,lon1,lat2,lon2):\n",
    "    dLat = math.radians(lat2-lat1)\n",
    "    dLon = math.radians(lon2-lon1)\n",
    "\n",
    "    lat1 = math.radians(lat1)\n",
    "    lat2 = math.radians(lat2)\n",
    "\n",
    "    a = math.sin(dLat/2) * math.sin(dLat/2) + math.sin(dLon/2) * math.sin(dLon/2) * math.cos(lat1) * math.cos(lat2)\n",
    "    c = 2 * math.atan2(math.sqrt(a), math.sqrt(1-a))\n",
    "    return c * 6371 * 1000\n",
    "    #return np.abs((lat1 - lat2) + (lon1 - lon2))\n",
    "\n",
    "def dist2(lat,lon):\n",
    "    distancias = escuelas.apply(lambda row: dist(lat, lon, row['lat'], row['lon']), axis=1)\n",
    "    return distancias.min()"
   ]
  },
  {
   "cell_type": "code",
   "execution_count": null,
   "metadata": {},
   "outputs": [],
   "source": [
    "propiedades['distancia_minima_escuela (m)'] = propiedades.apply(lambda row: dist2(row['lat'], \n",
    "                                                                                  row['lon']), axis=1)\n",
    "propiedades.head()"
   ]
  },
  {
   "cell_type": "code",
   "execution_count": null,
   "metadata": {},
   "outputs": [],
   "source": [
    "%matplotlib inline\n",
    "df = propiedades[propiedades['distancia_minima_escuela (m)']< 2000]\n",
    "df = df[df['price']< 150000]\n",
    "df.plot.scatter('distancia_minima_escuela (m)', 'price',alpha=0.25, figsize=(12,8))"
   ]
  },
  {
   "cell_type": "code",
   "execution_count": null,
   "metadata": {},
   "outputs": [],
   "source": [
    "propiedades.sample(200)"
   ]
  },
  {
   "cell_type": "code",
   "execution_count": null,
   "metadata": {},
   "outputs": [],
   "source": [
    "filteredData['distancia_minima_escuela (m)'] = propiedades[['distancia_minima_escuela (m)']]\n",
    "filteredData"
   ]
  },
  {
   "cell_type": "code",
   "execution_count": null,
   "metadata": {},
   "outputs": [],
   "source": [
    "df.to_csv('dataFiltrada/dataV4.csv')\n"
   ]
  },
  {
   "cell_type": "code",
   "execution_count": null,
   "metadata": {},
   "outputs": [],
   "source": []
  }
 ],
 "metadata": {
  "kernelspec": {
   "display_name": "Python 3",
   "language": "python",
   "name": "python3"
  },
  "language_info": {
   "codemirror_mode": {
    "name": "ipython",
    "version": 3
   },
   "file_extension": ".py",
   "mimetype": "text/x-python",
   "name": "python",
   "nbconvert_exporter": "python",
   "pygments_lexer": "ipython3",
   "version": "3.7.3"
  }
 },
 "nbformat": 4,
 "nbformat_minor": 2
}
