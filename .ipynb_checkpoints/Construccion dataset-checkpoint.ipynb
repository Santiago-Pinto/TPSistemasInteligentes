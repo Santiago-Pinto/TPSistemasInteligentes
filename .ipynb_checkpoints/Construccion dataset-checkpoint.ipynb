{
 "cells": [
  {
   "cell_type": "markdown",
   "metadata": {},
   "source": [
    "# Construccion de Dataset \n",
    "### Mediante este notebook partiremos desde el dataframe filtrado y lo transformaremos en el dataset de estudio"
   ]
  },
  {
   "cell_type": "code",
   "execution_count": 1,
   "metadata": {},
   "outputs": [],
   "source": [
    "# Imports\n",
    "import pandas as pd\n",
    "import numpy as np\n",
    "from datetime import datetime\n",
    "import matplotlib\n",
    "import matplotlib.pyplot as plt\n",
    "from datetime import timedelta, date\n",
    "import matplotlib.dates as mdates\n",
    "import geopandas as gpd\n",
    "import shapely\n",
    "import warnings\n",
    "warnings.filterwarnings('ignore')\n",
    "\n",
    "%matplotlib inline"
   ]
  },
  {
   "cell_type": "code",
   "execution_count": 21,
   "metadata": {},
   "outputs": [
    {
     "name": "stdout",
     "output_type": "stream",
     "text": [
      "<class 'pandas.core.frame.DataFrame'>\n",
      "RangeIndex: 74216 entries, 0 to 74215\n",
      "Data columns (total 16 columns):\n",
      "Unnamed: 0         74216 non-null int64\n",
      "start_date         74216 non-null object\n",
      "end_date           74216 non-null object\n",
      "lat                70538 non-null float64\n",
      "lon                70538 non-null float64\n",
      "barrio             73901 non-null object\n",
      "rooms              65610 non-null float64\n",
      "bedrooms           44537 non-null float64\n",
      "bathrooms          74216 non-null float64\n",
      "surface_total      71359 non-null float64\n",
      "surface_covered    72165 non-null float64\n",
      "price              74216 non-null float64\n",
      "title              74216 non-null object\n",
      "description        74216 non-null object\n",
      "property_type      74216 non-null object\n",
      "operation_type     74216 non-null object\n",
      "dtypes: float64(8), int64(1), object(7)\n",
      "memory usage: 9.1+ MB\n"
     ]
    }
   ],
   "source": [
    "df = pd.read_csv('dataFiltrada/datosCapital.csv')\n",
    "df.info()"
   ]
  },
  {
   "cell_type": "code",
   "execution_count": 22,
   "metadata": {},
   "outputs": [
    {
     "data": {
      "text/plain": [
       "array(['PH', 'Casa', 'Departamento', 'Lote', 'Oficina', 'Local comercial',\n",
       "       'Otro', 'Cochera', 'Depósito'], dtype=object)"
      ]
     },
     "execution_count": 22,
     "metadata": {},
     "output_type": "execute_result"
    }
   ],
   "source": [
    "df.property_type.unique()"
   ]
  },
  {
   "cell_type": "code",
   "execution_count": 23,
   "metadata": {},
   "outputs": [
    {
     "name": "stdout",
     "output_type": "stream",
     "text": [
      "<class 'pandas.core.frame.DataFrame'>\n",
      "Int64Index: 58660 entries, 4 to 74215\n",
      "Data columns (total 16 columns):\n",
      "Unnamed: 0         58660 non-null int64\n",
      "start_date         58660 non-null object\n",
      "end_date           58660 non-null object\n",
      "lat                55603 non-null float64\n",
      "lon                55603 non-null float64\n",
      "barrio             58466 non-null object\n",
      "rooms              56282 non-null float64\n",
      "bedrooms           37110 non-null float64\n",
      "bathrooms          58660 non-null float64\n",
      "surface_total      56647 non-null float64\n",
      "surface_covered    57142 non-null float64\n",
      "price              58660 non-null float64\n",
      "title              58660 non-null object\n",
      "description        58660 non-null object\n",
      "property_type      58660 non-null object\n",
      "operation_type     58660 non-null object\n",
      "dtypes: float64(8), int64(1), object(7)\n",
      "memory usage: 7.6+ MB\n"
     ]
    }
   ],
   "source": [
    "#Filtramos solo departamentos\n",
    "df1 = df[df['property_type'] == 'Departamento']\n",
    "df1.info()"
   ]
  },
  {
   "cell_type": "code",
   "execution_count": 24,
   "metadata": {},
   "outputs": [
    {
     "name": "stdout",
     "output_type": "stream",
     "text": [
      "<class 'pandas.core.frame.DataFrame'>\n",
      "Int64Index: 50586 entries, 4 to 74211\n",
      "Data columns (total 16 columns):\n",
      "Unnamed: 0         50586 non-null int64\n",
      "start_date         50586 non-null object\n",
      "end_date           50586 non-null object\n",
      "lat                50586 non-null float64\n",
      "lon                50586 non-null float64\n",
      "barrio             50586 non-null object\n",
      "rooms              50586 non-null float64\n",
      "bedrooms           50586 non-null float64\n",
      "bathrooms          50586 non-null float64\n",
      "surface_total      50586 non-null float64\n",
      "surface_covered    50586 non-null float64\n",
      "price              50586 non-null float64\n",
      "title              50586 non-null object\n",
      "description        50586 non-null object\n",
      "property_type      50586 non-null object\n",
      "operation_type     50586 non-null object\n",
      "dtypes: float64(8), int64(1), object(7)\n",
      "memory usage: 6.6+ MB\n"
     ]
    }
   ],
   "source": [
    "df1['bedrooms'].fillna(0, inplace=True)\n",
    "df1.dropna(inplace = True)\n",
    "df1.info()"
   ]
  },
  {
   "cell_type": "code",
   "execution_count": 25,
   "metadata": {},
   "outputs": [],
   "source": [
    "#Coordenadas del obelisco: 34°36′11″S 58°22′54″O / -34.603075, -58.381653\n",
    "obelisco_lon=-58.381653\n",
    "obelisco_lat=-34.603075\n",
    "\n",
    "#le agrego a los datos de Capital Federal una columna con la distancia al centro (tomo el obelisco como referencia)\n",
    "df1['dist_centro'] = np.absolute(df1['lon'] - obelisco_lon)+ np.absolute(df1['lat'] - obelisco_lat).copy()"
   ]
  },
  {
   "cell_type": "code",
   "execution_count": 27,
   "metadata": {},
   "outputs": [
    {
     "data": {
      "text/html": [
       "<div>\n",
       "<style scoped>\n",
       "    .dataframe tbody tr th:only-of-type {\n",
       "        vertical-align: middle;\n",
       "    }\n",
       "\n",
       "    .dataframe tbody tr th {\n",
       "        vertical-align: top;\n",
       "    }\n",
       "\n",
       "    .dataframe thead th {\n",
       "        text-align: right;\n",
       "    }\n",
       "</style>\n",
       "<table border=\"1\" class=\"dataframe\">\n",
       "  <thead>\n",
       "    <tr style=\"text-align: right;\">\n",
       "      <th></th>\n",
       "      <th>Unnamed: 0</th>\n",
       "      <th>start_date</th>\n",
       "      <th>end_date</th>\n",
       "      <th>lat</th>\n",
       "      <th>lon</th>\n",
       "      <th>barrio</th>\n",
       "      <th>rooms</th>\n",
       "      <th>bedrooms</th>\n",
       "      <th>bathrooms</th>\n",
       "      <th>surface_total</th>\n",
       "      <th>surface_covered</th>\n",
       "      <th>price</th>\n",
       "      <th>title</th>\n",
       "      <th>description</th>\n",
       "      <th>property_type</th>\n",
       "      <th>operation_type</th>\n",
       "      <th>dist_centro</th>\n",
       "    </tr>\n",
       "  </thead>\n",
       "  <tbody>\n",
       "    <tr>\n",
       "      <th>56748</th>\n",
       "      <td>343188</td>\n",
       "      <td>2019-07-14</td>\n",
       "      <td>2019-08-17</td>\n",
       "      <td>-34.567572</td>\n",
       "      <td>-58.457059</td>\n",
       "      <td>Belgrano</td>\n",
       "      <td>2.0</td>\n",
       "      <td>1.0</td>\n",
       "      <td>1.0</td>\n",
       "      <td>60.0</td>\n",
       "      <td>43.0</td>\n",
       "      <td>143431.0</td>\n",
       "      <td>VENTA 2 AMBIENTES AL FRENTE / POZO / BELGRANO</td>\n",
       "      <td>Corredor Responsable: EMMA A. PIERSIMONI - CPI...</td>\n",
       "      <td>Departamento</td>\n",
       "      <td>Venta</td>\n",
       "      <td>0.110909</td>\n",
       "    </tr>\n",
       "  </tbody>\n",
       "</table>\n",
       "</div>"
      ],
      "text/plain": [
       "       Unnamed: 0  start_date    end_date        lat        lon    barrio  \\\n",
       "56748      343188  2019-07-14  2019-08-17 -34.567572 -58.457059  Belgrano   \n",
       "\n",
       "       rooms  bedrooms  bathrooms  surface_total  surface_covered     price  \\\n",
       "56748    2.0       1.0        1.0           60.0             43.0  143431.0   \n",
       "\n",
       "                                               title  \\\n",
       "56748  VENTA 2 AMBIENTES AL FRENTE / POZO / BELGRANO   \n",
       "\n",
       "                                             description property_type  \\\n",
       "56748  Corredor Responsable: EMMA A. PIERSIMONI - CPI...  Departamento   \n",
       "\n",
       "      operation_type  dist_centro  \n",
       "56748          Venta     0.110909  "
      ]
     },
     "execution_count": 27,
     "metadata": {},
     "output_type": "execute_result"
    }
   ],
   "source": [
    "df1.sample()"
   ]
  },
  {
   "cell_type": "code",
   "execution_count": 29,
   "metadata": {},
   "outputs": [],
   "source": [
    "df1.to_csv('dataV2.csv')"
   ]
  },
  {
   "cell_type": "code",
   "execution_count": 30,
   "metadata": {},
   "outputs": [
    {
     "data": {
      "text/plain": [
       "'dataFiltrada/dataV3.csv'"
      ]
     },
     "execution_count": 30,
     "metadata": {},
     "output_type": "execute_result"
    }
   ],
   "source": [
    "('dataFiltrada/dataV3.csv')"
   ]
  },
  {
   "cell_type": "code",
   "execution_count": 31,
   "metadata": {},
   "outputs": [
    {
     "name": "stdout",
     "output_type": "stream",
     "text": [
      "<class 'pandas.core.frame.DataFrame'>\n",
      "RangeIndex: 53395 entries, 0 to 53394\n",
      "Data columns (total 18 columns):\n",
      "Unnamed: 0         53395 non-null int64\n",
      "start_date         53395 non-null object\n",
      "end_date           53395 non-null object\n",
      "lat                53395 non-null float64\n",
      "lon                53395 non-null float64\n",
      "barrio             53395 non-null object\n",
      "rooms              53395 non-null float64\n",
      "bedrooms           53395 non-null float64\n",
      "bathrooms          53395 non-null float64\n",
      "surface_total      53395 non-null float64\n",
      "surface_covered    53395 non-null float64\n",
      "price              53395 non-null float64\n",
      "title              53395 non-null object\n",
      "description        53395 non-null object\n",
      "property_type      53395 non-null object\n",
      "operation_type     53395 non-null object\n",
      "dist_centro        53395 non-null float64\n",
      "min_dist_subte     53395 non-null float64\n",
      "dtypes: float64(10), int64(1), object(7)\n",
      "memory usage: 7.3+ MB\n"
     ]
    }
   ],
   "source": [
    "df2 = pd.read_csv('dataFiltrada/dataV3.csv')\n",
    "df2.info()"
   ]
  },
  {
   "cell_type": "code",
   "execution_count": null,
   "metadata": {},
   "outputs": [],
   "source": []
  }
 ],
 "metadata": {
  "kernelspec": {
   "display_name": "Python 3",
   "language": "python",
   "name": "python3"
  },
  "language_info": {
   "codemirror_mode": {
    "name": "ipython",
    "version": 3
   },
   "file_extension": ".py",
   "mimetype": "text/x-python",
   "name": "python",
   "nbconvert_exporter": "python",
   "pygments_lexer": "ipython3",
   "version": "3.7.3"
  }
 },
 "nbformat": 4,
 "nbformat_minor": 2
}
